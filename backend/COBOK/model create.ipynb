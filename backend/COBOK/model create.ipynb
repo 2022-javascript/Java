{
 "cells": [
  {
   "cell_type": "code",
   "execution_count": null,
   "metadata": {},
   "outputs": [],
   "source": [
    "from dataread import *\n",
    "from DATA_INDICATORS import *\n",
    "from sklearn.preprocessing import MinMaxScaler\n",
    "import joblib\n",
    "from sklearn.model_selection import train_test_split\n",
    "from xgboost import XGBClassifier\n",
    "from sklearn.decomposition import PCA\n",
    "from keras.layers import Dense,LSTM\n",
    "from keras.models import Sequential\n",
    "from keras.callbacks import EarlyStopping, ModelCheckpoint\n",
    "import os"
   ]
  },
  {
   "cell_type": "code",
   "execution_count": null,
   "metadata": {},
   "outputs": [],
   "source": [
    "def add_target(data):\n",
    "    target = []\n",
    "    target.append(None)\n",
    "    for i in range(1, len(data)):\n",
    "        if data.iloc[i]['close'] >= data.iloc[i-1]['close']:\n",
    "            target.append(1)\n",
    "        else:\n",
    "            target.append(0)\n",
    "    data['target'] = target\n",
    "    return data"
   ]
  },
  {
   "cell_type": "code",
   "execution_count": null,
   "metadata": {},
   "outputs": [],
   "source": [
    "def make_dataset(data, label, window_size=5):\n",
    "    feature_list = []\n",
    "    label_list = []\n",
    "    for i in range(len(data) - window_size):\n",
    "        feature_list.append(np.array(data.iloc[i:i+window_size]))\n",
    "        label_list.append(np.array(label.iloc[i+window_size]))\n",
    "    return np.array(feature_list), np.array(label_list)"
   ]
  },
  {
   "cell_type": "code",
   "execution_count": null,
   "metadata": {},
   "outputs": [],
   "source": [
    "ticker = download_data().Usdt_symbol()\n",
    "# ticker = ticker[142:]\n",
    "for i in ticker:\n",
    "    try:\n",
    "        print(\"ticker :\",str(i))\n",
    "        data = download_data(code_name = i,frame='1d').get_data()\n",
    "        data = add_ma(data)\n",
    "        data = add_rsi(data)\n",
    "        data = add_ema(data)\n",
    "        data = add_stochastic(data)\n",
    "        data = add_disparity(data)\n",
    "        data = data.dropna()\n",
    "        # scale\n",
    "        scaler = MinMaxScaler()\n",
    "        df_scaled = scaler.fit_transform(data)\n",
    "\n",
    "        df_scaled = pd.DataFrame(df_scaled)\n",
    "        df_scaled.columns = data.columns\n",
    "\n",
    "        # slicing data\n",
    "        train_feature = pd.DataFrame(df_scaled.drop(['close'],axis=1))\n",
    "        train_label = pd.DataFrame(df_scaled['close'])\n",
    "        train_feature, train_label = make_dataset(train_feature, train_label, window_size = 20)\n",
    "        x_train, x_valid, y_train, y_valid = train_test_split(train_feature, train_label, test_size=0.2,random_state=0)\n",
    "\n",
    "        # create model\n",
    "        try:\n",
    "            model = Sequential()\n",
    "            model.add(LSTM(16, \n",
    "                        input_shape=(train_feature.shape[1], train_feature.shape[2]), \n",
    "                        activation='softsign', \n",
    "                        return_sequences=True)\n",
    "                    )\n",
    "            model.add(Dense(8))\n",
    "            model.add(Dense(4))\n",
    "            model.add(Dense(1))\n",
    "            try:\n",
    "                model_path = 'model_path'\n",
    "                model.compile(loss='mean_squared_error', optimizer='adam')\n",
    "                early_stop = EarlyStopping(monitor='val_loss', patience=5)\n",
    "                filename = os.path.join(model_path, 'tmp_checkpoint.h5')\n",
    "                checkpoint = ModelCheckpoint(filename, monitor='val_loss', verbose=1, save_best_only=True, mode='auto')\n",
    "\n",
    "                history = model.fit(x_train, y_train, \n",
    "                                    epochs=200, \n",
    "                                    batch_size=16,\n",
    "                                    validation_data=(x_valid, y_valid), \n",
    "                                    callbacks=[early_stop, checkpoint])\n",
    "            except:\n",
    "                print(\"model compile error\")\n",
    "        except:\n",
    "            print(\"model create error\")\n",
    "    except:\n",
    "        print(\"data read error\")\n",
    "    # 모델 저장\n",
    "    try:\n",
    "        joblib.dump(model, './model_'+ str(i).replace(\"/\",\"_\") +'.pkl')\n",
    "    except:\n",
    "        print(\"model save error\")\n",
    "    # model = joblib.load('saved_model.pkl')"
   ]
  },
  {
   "cell_type": "code",
   "execution_count": null,
   "metadata": {},
   "outputs": [],
   "source": []
  }
 ],
 "metadata": {
  "interpreter": {
   "hash": "aee8b7b246df8f9039afb4144a1f6fd8d2ca17a180786b69acc140d282b71a49"
  },
  "kernelspec": {
   "display_name": "Python 3.10.0 64-bit",
   "language": "python",
   "name": "python3"
  },
  "language_info": {
   "codemirror_mode": {
    "name": "ipython",
    "version": 3
   },
   "file_extension": ".py",
   "mimetype": "text/x-python",
   "name": "python",
   "nbconvert_exporter": "python",
   "pygments_lexer": "ipython3",
   "version": "3.10.0"
  },
  "orig_nbformat": 4
 },
 "nbformat": 4,
 "nbformat_minor": 2
}
