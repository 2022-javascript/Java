{
 "cells": [
  {
   "cell_type": "code",
   "execution_count": 70,
   "metadata": {},
   "outputs": [],
   "source": [
    "from DATA_INDICATORS import *\n",
    "import datetime\n",
    "import time"
   ]
  },
  {
   "cell_type": "code",
   "execution_count": 71,
   "metadata": {},
   "outputs": [],
   "source": [
    "import ccxt\n",
    "class AutoTrade:\n",
    "    def __init__(self,api_key,sec_key,target_symbol = \"BTC/USDT\",leverage = 5):\n",
    "        self.api_key = api_key\n",
    "        self.sec_key = sec_key\n",
    "        self.target_symbol = target_symbol\n",
    "        self.leverage = leverage\n",
    "        try:\n",
    "            self.binance_connect = ccxt.binance(config={\n",
    "            'apiKey': api_key, \n",
    "            'secret': sec_key,\n",
    "            'enableRateLimit': True,\n",
    "            'options': {\n",
    "                'defaultType': 'future'\n",
    "                }\n",
    "            })\n",
    "            print(\"binance connect complete\")\n",
    "        except:\n",
    "            print(\"binance connect error\")\n",
    "    def download_data(self,frame):\n",
    "        try:\n",
    "            binance = ccxt.binance()\n",
    "            btc_ohlcv = binance.fetch_ohlcv(self.target_symbol,limit = 100,timeframe=frame)\n",
    "            df = pd.DataFrame(btc_ohlcv, columns=['datetime', 'open', 'high', 'low', 'close', 'volume'])\n",
    "            df['datetime'] = pd.to_datetime(df['datetime'], unit='ms')\n",
    "            df.set_index('datetime', inplace=True)\n",
    "            return df\n",
    "        except:\n",
    "            print(\"data get error\")\n",
    "    # 잔고 조회\n",
    "    def CHECK_YOUR_BALANCE(self):\n",
    "        print(\"총 증거금 :\",self.binance_connect.fetch_balance()['info']['totalInitialMargin'],\"USDT\") # 총 증거금\n",
    "        print(\"총 지갑 잔액 :\",self.binance_connect.fetch_balance()['info']['totalInitialMargin'],\"USDT\") # 총 지갑 잔액 \n",
    "        print(\"총 사용 가능 잔액 :\",self.binance_connect.fetch_balance()['info']['availableBalance'],\"USDT\") # 사용 가능 잔액 \n",
    "        print(\"출금 가능 금액 :\",self.binance_connect.fetch_balance()['info']['maxWithdrawAmount'],\"USDT\") # 출금 가능 금액\n",
    "\n",
    "    # 타겟 심볼 레버리지 변경 \n",
    "    def change_leverage(self,leverage = 5):\n",
    "        symbol = self.target_symbol\n",
    "        try:\n",
    "            market = self.binance_connect.market(str(symbol))\n",
    "            self.leverage = leverage\n",
    "            leverage = self.leverage\n",
    "            try:\n",
    "                resp = self.binance_connect.fapiPrivate_post_leverage({\n",
    "                    'symbol': market['id'],\n",
    "                    'leverage': leverage\n",
    "                })\n",
    "                print(\"change\",self.leverage,\"laverage complete\")\n",
    "            except:\n",
    "                print(\"chane leverage error\")\n",
    "        except:\n",
    "            print(\"No Symbol in market\")\n",
    "    # 타겟 심볼 평단가 조회\n",
    "    def entryprice(self):\n",
    "        balance = self.binance_connect.fetch_balance()\n",
    "        positions = balance['info']['positions']\n",
    "\n",
    "        for position in positions:\n",
    "            if position[\"symbol\"] == self.target_symbol:\n",
    "                return float(position['entryPrice'])\n",
    "\n",
    "    # rsi 기본 매매\n",
    "    def rsi_auto_trade(self,period = 14,frame = \"1h\",buy_num = 30,sell_num = 70,buy_amount = 0.01,st_num = 5):\n",
    "        buy_flag = True\n",
    "        entryPrice = 0\n",
    "        st_num = st_num/100\n",
    "        while(True):\n",
    "            print(\"------------------------------------------------------------------------------------\")\n",
    "            current_time = datetime.now()\n",
    "            data = self.download_data(frame = frame)\n",
    "            data = add_rsi(data,data_name = 'close',period = period)\n",
    "            rsi_indicator_name = 'rsi'+'_'+str(period)\n",
    "            print(\"현재 시간 :\",current_time)\n",
    "            print(\"현재 가격 :\",data.iloc[-1]['close'])\n",
    "            print(\"현재 rsi :\",data.iloc[-1][rsi_indicator_name])\n",
    "            if buy_flag:\n",
    "                if data.iloc[-1][rsi_indicator_name] < buy_num:\n",
    "                    entryPrice = self.entryprice()\n",
    "                    buy_flag = False\n",
    "\n",
    "                    price = self.entryprice()\n",
    "                    print('매수시점:',current_time,'진입가격:',price)\n",
    "\n",
    "                    order = self.binance_connect.create_market_buy_order(symbol=self.target_symbol,amount=buy_amount)\n",
    "            else:\n",
    "                if data.iloc[-1][rsi_indicator_name] > sell_num:\n",
    "                    entryPrice = 0\n",
    "                    buy_flag = True\n",
    "\n",
    "                    price = self.entryprice()\n",
    "                    print('매도시점:',current_time,'매도가격:',price)\n",
    "\n",
    "                    order = self.binance_connect.create_market_sell_order(\n",
    "                    symbol=self.target_symbol,\n",
    "                    amount=buy_amount)\n",
    "                # -st_num% 손실 시 매도\n",
    "            if entryPrice * (1-st_num) >= data.iloc[-1]['close'] and buy_flag:\n",
    "                order = self.binance.create_market_sell_order(\n",
    "                symbol=self.target_symbol,\n",
    "                amount=buy_amount)\n",
    "                \n",
    "                price = self.entryprice()\n",
    "                print('매도시점:',current_time,'매도가격:',price)\n",
    "            print(\"------------------------------------------------------------------------------------\")\n",
    "            time.sleep(15)"
   ]
  },
  {
   "cell_type": "code",
   "execution_count": 72,
   "metadata": {},
   "outputs": [
    {
     "name": "stdout",
     "output_type": "stream",
     "text": [
      "binance connect complete\n"
     ]
    }
   ],
   "source": [
    "a = AutoTrade('598lqCWX727NXfflVt1qejRSZXphSuWVlcdMm1gdtAVD3lytdDhjpbV3eyxcr0z1','XxDx9DuVDiYngMV71jWHHCFYRhhph4bdZdGCSH4JVb2s2jCJtHW6gbpPwZWjfYvf')"
   ]
  },
  {
   "cell_type": "code",
   "execution_count": 73,
   "metadata": {},
   "outputs": [
    {
     "name": "stdout",
     "output_type": "stream",
     "text": [
      "------------------------------------------------------------------------------------\n",
      "현재 가격 : 20054.54\n",
      "현재 rsi : 49.28520502573544\n",
      "------------------------------------------------------------------------------------\n",
      "------------------------------------------------------------------------------------\n",
      "현재 가격 : 20048.0\n",
      "현재 rsi : 48.78047010922315\n",
      "------------------------------------------------------------------------------------\n",
      "------------------------------------------------------------------------------------\n",
      "현재 가격 : 20048.59\n",
      "현재 rsi : 48.826416221662136\n",
      "------------------------------------------------------------------------------------\n",
      "------------------------------------------------------------------------------------\n",
      "현재 가격 : 20046.86\n",
      "현재 rsi : 48.69145874736143\n",
      "------------------------------------------------------------------------------------\n"
     ]
    }
   ],
   "source": [
    "a.rsi_auto_trade()"
   ]
  },
  {
   "cell_type": "code",
   "execution_count": null,
   "metadata": {},
   "outputs": [],
   "source": []
  }
 ],
 "metadata": {
  "interpreter": {
   "hash": "1ec0b754c8c73149efc9f3d914b73a3b0cb8114f320e31fc34b88809ca99ca47"
  },
  "kernelspec": {
   "display_name": "Python 3.10.0 ('env': venv)",
   "language": "python",
   "name": "python3"
  },
  "language_info": {
   "codemirror_mode": {
    "name": "ipython",
    "version": 3
   },
   "file_extension": ".py",
   "mimetype": "text/x-python",
   "name": "python",
   "nbconvert_exporter": "python",
   "pygments_lexer": "ipython3",
   "version": "3.10.0"
  },
  "orig_nbformat": 4
 },
 "nbformat": 4,
 "nbformat_minor": 2
}
